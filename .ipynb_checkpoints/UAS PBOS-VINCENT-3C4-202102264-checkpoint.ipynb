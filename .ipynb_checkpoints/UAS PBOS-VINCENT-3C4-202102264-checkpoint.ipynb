{
 "cells": [
  {
   "cell_type": "code",
   "execution_count": 8,
   "id": "0514cdbd",
   "metadata": {},
   "outputs": [
    {
     "name": "stdout",
     "output_type": "stream",
     "text": [
      "Luas persegi adalah 20\n",
      "Keliling persegi adalah 18\n"
     ]
    }
   ],
   "source": [
    "def luas_persegipanjang(panjang, lebar):\n",
    "    luas = panjang*lebar\n",
    "    print(\"Luas persegi adalah %d\"%luas)\n",
    "luas_persegipanjang(5,4)\n",
    "\n",
    "def keliling_persegipanjang(panjang, lebar):\n",
    "    keliling = 2*(panjang+lebar)\n",
    "    print(\"Keliling persegi adalah %d\"%keliling)\n",
    "keliling_persegipanjang(5,4)"
   ]
  },
  {
   "cell_type": "code",
   "execution_count": 12,
   "id": "a242fc3c",
   "metadata": {},
   "outputs": [
    {
     "name": "stdout",
     "output_type": "stream",
     "text": [
      "Masukkan sisi 1 :5\n",
      "Masukkan sisi 2 :5\n",
      "Luas persegi adalah 25\n",
      "Keliling persegi adalah 20\n"
     ]
    }
   ],
   "source": [
    "class Polygon:\n",
    "    def __init__(self, jumlah_sisi):\n",
    "        self.n = jumlah_sisi\n",
    "        self.sides = [0 for i in range(jumlah_sisi)]\n",
    "    def inputSides(self):\n",
    "        self.sides = [float(input(\"Masukkan sisi \"+str(i+1)+ \" :\")) for i in range(self.n)]\n",
    "    def dispSides(self):\n",
    "        for i in range(self.n):\n",
    "            print(\"sisi\",i+1,\"adalah\",self.sides[i])\n",
    "\n",
    "class Rectangle(Polygon):\n",
    "    def __init__(self):\n",
    "        Polygon.__init__(self,2)\n",
    "\n",
    "    def findArea(self):\n",
    "        a,b = self.sides\n",
    "        #hitung keliling\n",
    "        luas = a*b\n",
    "        keliling = 2*(a+b)\n",
    "        print(\"Luas persegi adalah %d\"%luas)\n",
    "        print(\"Keliling persegi adalah %d\"%keliling)\n",
    "\n",
    "a = Rectangle()\n",
    "a.inputSides()\n",
    "a.findArea()"
   ]
  },
  {
   "cell_type": "code",
   "execution_count": 24,
   "id": "01509164",
   "metadata": {},
   "outputs": [
    {
     "name": "stdout",
     "output_type": "stream",
     "text": [
      "Nama   : VINCENT\n",
      "Alamat : JALAN PAK KASIH\n",
      "NIM    : 202102264\n",
      "================================================\n",
      "Berikut adalah Data Pribadi yang telah di input \n",
      "Nama   :  VINCENT\n",
      "Alamat :  JALAN PAK KASIH\n",
      "NIM    :  202102264\n"
     ]
    }
   ],
   "source": [
    "class DataPribadi():\n",
    "    def _init_(self,nama,alamat,nim):\n",
    "        \n",
    "        print(\"Inputkan DataPribadi Anda\")\n",
    "        \n",
    "    def input(self):\n",
    "        self.nama = input(\"Nama   : \")\n",
    "        self.alamat = input(\"Alamat : \")\n",
    "        self.nim = input(\"NIM    : \")\n",
    "        \n",
    "class datapribadi(DataPribadi):\n",
    "    def cetak(self):\n",
    "        print (\"================================================\")\n",
    "        print (\"Berikut adalah Data Pribadi yang telah di input \")\n",
    "        print (\"Nama   : \", self.nama)\n",
    "        print (\"Alamat : \", self.alamat)\n",
    "        print (\"NIM    : \", self.nim)\n",
    "        \n",
    "data = datapribadi()\n",
    "data.input()\n",
    "data.cetak()"
   ]
  },
  {
   "cell_type": "code",
   "execution_count": null,
   "id": "e0741966",
   "metadata": {},
   "outputs": [],
   "source": [
    "# Program make a simple calculator\n",
    "\n",
    "# This function adds two numbers\n",
    "def add(x, y):\n",
    "    return x + y\n",
    "\n",
    "# This function subtracts two numbers\n",
    "def subtract(x, y):\n",
    "    return x - y\n",
    "\n",
    "# This function multiplies two numbers\n",
    "def multiply(x, y):\n",
    "    return x * y\n",
    "\n",
    "# This function divides two numbers\n",
    "def divide(x, y):\n",
    "    return x / y\n",
    "\n",
    "\n",
    "print(\"Select operation.\")\n",
    "print(\"1.Add\")\n",
    "print(\"2.Subtract\")\n",
    "print(\"3.Multiply\")\n",
    "print(\"4.Divide\")\n",
    "\n",
    "while True:\n",
    "    # take input from the user\n",
    "    choice = input(\"Enter choice(1/2/3/4): \")\n",
    "\n",
    "    # check if choice is one of the four options\n",
    "    if choice in ('1', '2', '3', '4'):\n",
    "        num1 = float(input(\"Enter first number: \"))\n",
    "        num2 = float(input(\"Enter second number: \"))\n",
    "\n",
    "        if choice == '1':\n",
    "            print(num1, \"+\", num2, \"=\", add(num1, num2))\n",
    "\n",
    "        elif choice == '2':\n",
    "            print(num1, \"-\", num2, \"=\", subtract(num1, num2))\n",
    "\n",
    "        elif choice == '3':\n",
    "            print(num1, \"*\", num2, \"=\", multiply(num1, num2))\n",
    "\n",
    "        elif choice == '4':\n",
    "            print(num1, \"/\", num2, \"=\", divide(num1, num2))\n",
    "        \n",
    "        # check if user wants another calculation\n",
    "        # break the while loop if answer is no\n",
    "        next_calculation = input(\"Let's do next calculation? (yes/no): \")\n",
    "        if next_calculation == \"no\":\n",
    "        break\n",
    "    \n",
    "    else:\n",
    "        print(\"Invalid Input\")"
   ]
  }
 ],
 "metadata": {
  "kernelspec": {
   "display_name": "Python 3",
   "language": "python",
   "name": "python3"
  },
  "language_info": {
   "codemirror_mode": {
    "name": "ipython",
    "version": 3
   },
   "file_extension": ".py",
   "mimetype": "text/x-python",
   "name": "python",
   "nbconvert_exporter": "python",
   "pygments_lexer": "ipython3",
   "version": "3.8.8"
  }
 },
 "nbformat": 4,
 "nbformat_minor": 5
}
