{
 "cells": [
  {
   "cell_type": "code",
   "execution_count": 8,
   "id": "2067a40d",
   "metadata": {},
   "outputs": [
    {
     "name": "stdout",
     "output_type": "stream",
     "text": [
      "Luas persegi adalah 20\n",
      "Keliling persegi adalah 18\n"
     ]
    }
   ],
   "source": [
    "def luas_persegipanjang(panjang, lebar):\n",
    "    luas = panjang*lebar\n",
    "    print(\"Luas persegi adalah %d\"%luas)\n",
    "luas_persegipanjang(5,4)\n",
    "\n",
    "def keliling_persegipanjang(panjang, lebar):\n",
    "    keliling = 2*(panjang+lebar)\n",
    "    print(\"Keliling persegi adalah %d\"%keliling)\n",
    "keliling_persegipanjang(5,4)"
   ]
  },
  {
   "cell_type": "code",
   "execution_count": 12,
   "id": "af8d47fc",
   "metadata": {},
   "outputs": [
    {
     "name": "stdout",
     "output_type": "stream",
     "text": [
      "Masukkan sisi 1 :5\n",
      "Masukkan sisi 2 :5\n",
      "Luas persegi adalah 25\n",
      "Keliling persegi adalah 20\n"
     ]
    }
   ],
   "source": [
    "class Polygon:\n",
    "    def __init__(self, jumlah_sisi):\n",
    "        self.n = jumlah_sisi\n",
    "        self.sides = [0 for i in range(jumlah_sisi)]\n",
    "    def inputSides(self):\n",
    "        self.sides = [float(input(\"Masukkan sisi \"+str(i+1)+ \" :\")) for i in range(self.n)]\n",
    "    def dispSides(self):\n",
    "        for i in range(self.n):\n",
    "            print(\"sisi\",i+1,\"adalah\",self.sides[i])\n",
    "\n",
    "class Rectangle(Polygon):\n",
    "    def __init__(self):\n",
    "        Polygon.__init__(self,2)\n",
    "\n",
    "    def findArea(self):\n",
    "        a,b = self.sides\n",
    "        #hitung keliling\n",
    "        luas = a*b\n",
    "        keliling = 2*(a+b)\n",
    "        print(\"Luas persegi adalah %d\"%luas)\n",
    "        print(\"Keliling persegi adalah %d\"%keliling)\n",
    "\n",
    "a = Rectangle()\n",
    "a.inputSides()\n",
    "a.findArea()"
   ]
  },
  {
   "cell_type": "code",
   "execution_count": 24,
   "id": "606a700e",
   "metadata": {},
   "outputs": [
    {
     "name": "stdout",
     "output_type": "stream",
     "text": [
      "Nama   : VINCENT\n",
      "Alamat : JALAN PAK KASIH\n",
      "NIM    : 202102264\n",
      "================================================\n",
      "Berikut adalah Data Pribadi yang telah di input \n",
      "Nama   :  VINCENT\n",
      "Alamat :  JALAN PAK KASIH\n",
      "NIM    :  202102264\n"
     ]
    }
   ],
   "source": [
    "class DataPribadi():\n",
    "    def _init_(self,nama,alamat,nim):\n",
    "        \n",
    "        print(\"Inputkan DataPribadi Anda\")\n",
    "        \n",
    "    def input(self):\n",
    "        self.nama = input(\"Nama   : \")\n",
    "        self.alamat = input(\"Alamat : \")\n",
    "        self.nim = input(\"NIM    : \")\n",
    "        \n",
    "class datapribadi(DataPribadi):\n",
    "    def cetak(self):\n",
    "        print (\"================================================\")\n",
    "        print (\"Berikut adalah Data Pribadi yang telah di input \")\n",
    "        print (\"Nama   : \", self.nama)\n",
    "        print (\"Alamat : \", self.alamat)\n",
    "        print (\"NIM    : \", self.nim)\n",
    "        \n",
    "data = datapribadi()\n",
    "data.input()\n",
    "data.cetak()"
   ]
  },
  {
   "cell_type": "code",
   "execution_count": 28,
   "id": "3e832124",
   "metadata": {},
   "outputs": [
    {
     "name": "stdout",
     "output_type": "stream",
     "text": [
      "Select operation.\n",
      "1.TAMBAH\n",
      "2.KURANG\n",
      "3.KALI\n",
      "4.BAGI\n",
      "Enter choice(1/2/3/4): 3\n",
      "MASUKKAN ANGKA PERTAMA : 12\n",
      "MASUKKAN ANGKA KEDUA   : 12\n",
      "12.0 * 12.0 = 144.0\n",
      "ULANGI KEMBALI ? (yes/no): yes\n",
      "Enter choice(1/2/3/4): 4\n",
      "MASUKKAN ANGKA PERTAMA : 12\n",
      "MASUKKAN ANGKA KEDUA   : 12\n",
      "12.0 / 12.0 = 1.0\n",
      "ULANGI KEMBALI ? (yes/no): no\n"
     ]
    }
   ],
   "source": [
    "# KALKULATOR SIMPEL\n",
    "\n",
    "# RUMUS TAMBAH\n",
    "def tambah(x, y):\n",
    "    return x + y\n",
    "\n",
    "# RUMUS KURANG\n",
    "def kurang(x, y):\n",
    "    return x - y\n",
    "\n",
    "# RUMUS KALI\n",
    "def kali(x, y):\n",
    "    return x * y\n",
    "\n",
    "# RUMUS BAGI\n",
    "def bagi(x, y):\n",
    "    return x / y\n",
    "\n",
    "\n",
    "print(\"Select operation.\")\n",
    "print(\"1.TAMBAH\")\n",
    "print(\"2.KURANG\")\n",
    "print(\"3.KALI\")\n",
    "print(\"4.BAGI\")\n",
    "\n",
    "while True:\n",
    "    # CODINGAN MASUKKAN DATA\n",
    "    choice = input(\"Enter choice(1/2/3/4): \")\n",
    "\n",
    "    # CODINGAN UNTUK MEMILIH RUMUS\n",
    "    if choice in ('1', '2', '3', '4'):\n",
    "        a = float(input(\"MASUKKAN ANGKA PERTAMA : \"))\n",
    "        b = float(input(\"MASUKKAN ANGKA KEDUA   : \"))\n",
    "\n",
    "        if choice == '1':\n",
    "            print(a, \"+\", b, \"=\", tambah(a, b))\n",
    "\n",
    "        elif choice == '2':\n",
    "            print(a, \"-\", b, \"=\", kurang(a, b))\n",
    "\n",
    "        elif choice == '3':\n",
    "            print(a, \"*\", b, \"=\", kali(a, b))\n",
    "\n",
    "        elif choice == '4':\n",
    "            print(a, \"/\", b, \"=\", bagi(a, b))\n",
    "        \n",
    "        # CODINGAN UNTUK ULANG KEMBALI ATAU TIDAK\n",
    "        next_calculation = input(\"ULANGI KEMBALI ? (yes/no): \")\n",
    "        if next_calculation == \"no\":\n",
    "            break\n",
    "    \n",
    "    else:\n",
    "        print(\"Invalid Input\")"
   ]
  },
  {
   "cell_type": "code",
   "execution_count": null,
   "id": "99084ed3",
   "metadata": {},
   "outputs": [],
   "source": []
  }
 ],
 "metadata": {
  "kernelspec": {
   "display_name": "Python 3",
   "language": "python",
   "name": "python3"
  },
  "language_info": {
   "codemirror_mode": {
    "name": "ipython",
    "version": 3
   },
   "file_extension": ".py",
   "mimetype": "text/x-python",
   "name": "python",
   "nbconvert_exporter": "python",
   "pygments_lexer": "ipython3",
   "version": "3.8.8"
  }
 },
 "nbformat": 4,
 "nbformat_minor": 5
}
